{
 "cells": [
  {
   "cell_type": "code",
   "execution_count": 108,
   "metadata": {},
   "outputs": [
    {
     "name": "stdout",
     "output_type": "stream",
     "text": [
      "[17]\n"
     ]
    }
   ],
   "source": [
    "#ASG 1\n",
    "import random\n",
    "\n",
    "n = int(input(\"Enter a number:\"))\n",
    "\n",
    "numbers = []\n",
    "for i in range(n):\n",
    "    no = random.randint(1, 100)\n",
    "    numbers.append(no)\n",
    "\n",
    "print(numbers)\n",
    "\n"
   ]
  },
  {
   "cell_type": "code",
   "execution_count": 109,
   "metadata": {},
   "outputs": [
    {
     "name": "stdout",
     "output_type": "stream",
     "text": [
      "Yes, found it!\n"
     ]
    }
   ],
   "source": [
    "#ASG 2\n",
    "a = [1,2,3,4,5]\n",
    "\n",
    "n = int(input(\"Enter a number:\"))\n",
    "\n",
    "if(n in a):\n",
    "    print(\"Yes, found it!\")\n",
    "else:\n",
    "    print(\"Sorry, could not find that.\")"
   ]
  },
  {
   "cell_type": "code",
   "execution_count": 110,
   "metadata": {},
   "outputs": [
    {
     "name": "stdout",
     "output_type": "stream",
     "text": [
      "Sorry, could not find that.\n"
     ]
    }
   ],
   "source": [
    "#ASG 2 B\n",
    "w = \"Jack\"\n",
    "\n",
    "a = input(\"Enter a character:\")\n",
    "\n",
    "if(a in w):\n",
    "    print(\"Yes, found it!\")\n",
    "else:\n",
    "    print(\"Sorry, could not find that.\")"
   ]
  },
  {
   "cell_type": "code",
   "execution_count": 111,
   "metadata": {},
   "outputs": [
    {
     "ename": "ValueError",
     "evalue": "invalid literal for int() with base 10: 'Anas'",
     "output_type": "error",
     "traceback": [
      "\u001b[1;31m---------------------------------------------------------------------------\u001b[0m",
      "\u001b[1;31mValueError\u001b[0m                                Traceback (most recent call last)",
      "\u001b[1;32mc:\\Users\\Ansari\\OneDrive\\Desktop\\python\\assignment_1\\main.ipynb Cell 4\u001b[0m line \u001b[0;36m1\n\u001b[1;32m----> <a href='vscode-notebook-cell:/c%3A/Users/Ansari/OneDrive/Desktop/python/assignment_1/main.ipynb#W3sZmlsZQ%3D%3D?line=0'>1</a>\u001b[0m n \u001b[39m=\u001b[39m \u001b[39mint\u001b[39;49m(\u001b[39minput\u001b[39;49m(\u001b[39m\"\u001b[39;49m\u001b[39mEnter number of students:\u001b[39;49m\u001b[39m\"\u001b[39;49m))\n\u001b[0;32m      <a href='vscode-notebook-cell:/c%3A/Users/Ansari/OneDrive/Desktop/python/assignment_1/main.ipynb#W3sZmlsZQ%3D%3D?line=3'>4</a>\u001b[0m d \u001b[39m=\u001b[39m {}\n\u001b[0;32m      <a href='vscode-notebook-cell:/c%3A/Users/Ansari/OneDrive/Desktop/python/assignment_1/main.ipynb#W3sZmlsZQ%3D%3D?line=5'>6</a>\u001b[0m \u001b[39mfor\u001b[39;00m i \u001b[39min\u001b[39;00m \u001b[39mrange\u001b[39m(n):\n",
      "\u001b[1;31mValueError\u001b[0m: invalid literal for int() with base 10: 'Anas'"
     ]
    }
   ],
   "source": [
    "\n",
    "n = int(input(\"Enter number of students:\"))\n",
    "\n",
    "\n",
    "d = {}\n",
    "\n",
    "for i in range(n):\n",
    "    sr = i + 1\n",
    "    name = input(\"Name \"+ str(sr) + \":\")\n",
    "    marks = input(\"Marks \"+ str(sr) + \":\")\n",
    "    d[name] = marks\n",
    "\n",
    "print(d)"
   ]
  },
  {
   "cell_type": "code",
   "execution_count": null,
   "metadata": {},
   "outputs": [
    {
     "ename": "NameError",
     "evalue": "name 'd' is not defined",
     "output_type": "error",
     "traceback": [
      "\u001b[1;31m---------------------------------------------------------------------------\u001b[0m",
      "\u001b[1;31mNameError\u001b[0m                                 Traceback (most recent call last)",
      "\u001b[1;32mc:\\Users\\Ansari\\OneDrive\\Desktop\\python\\assignment_1\\main.ipynb Cell 5\u001b[0m line \u001b[0;36m1\n\u001b[1;32m----> <a href='vscode-notebook-cell:/c%3A/Users/Ansari/OneDrive/Desktop/python/assignment_1/main.ipynb#W4sZmlsZQ%3D%3D?line=0'>1</a>\u001b[0m d[\u001b[39m\"\u001b[39m\u001b[39mAnas\u001b[39m\u001b[39m\"\u001b[39m]\n",
      "\u001b[1;31mNameError\u001b[0m: name 'd' is not defined"
     ]
    }
   ],
   "source": [
    "d[\"Anas\"]"
   ]
  },
  {
   "cell_type": "code",
   "execution_count": null,
   "metadata": {},
   "outputs": [
    {
     "name": "stdout",
     "output_type": "stream",
     "text": [
      "True\n"
     ]
    }
   ],
   "source": [
    "def isPrime(n):\n",
    "    for i in range(2, n):\n",
    "        if(n%i == 0):\n",
    "            return False\n",
    "    return True\n",
    "\n",
    "print(isPrime(7))"
   ]
  },
  {
   "cell_type": "code",
   "execution_count": null,
   "metadata": {},
   "outputs": [
    {
     "name": "stdout",
     "output_type": "stream",
     "text": [
      "97 110 97 115 \n",
      "65 78 65 83 \n",
      "ANAS"
     ]
    }
   ],
   "source": [
    "name = input(\"Enter your name:\")\n",
    "# print(name.upper())\n",
    "\n",
    "#Using ascii values\n",
    "for i in name:\n",
    "    print(ord(i), end = \" \")\n",
    "print()\n",
    "\n",
    "\n",
    "list = []\n",
    "#Using ascii values\n",
    "for i in name:\n",
    "    i = ord(i) - 32\n",
    "    print(i, end = \" \")\n",
    "    list.append(i)\n",
    "\n",
    "\n",
    "# print(list)\n",
    "print()\n",
    "\n",
    "for i in list:\n",
    "    print(chr(i), end = \"\")\n",
    "\n",
    "\n",
    "\n",
    "\n",
    "# print()\n"
   ]
  },
  {
   "cell_type": "code",
   "execution_count": null,
   "metadata": {},
   "outputs": [
    {
     "data": {
      "text/plain": [
       "True"
      ]
     },
     "execution_count": 4,
     "metadata": {},
     "output_type": "execute_result"
    }
   ],
   "source": [
    "#6\n",
    "\n",
    "def isPalindrome(word):\n",
    "    for i in range(len(word)):\n",
    "        if word[i] != word[len(word) - i - 1]:\n",
    "            return False\n",
    "        return True\n",
    "    \n",
    "isPalindrome(\"radar\")\n",
    "\n"
   ]
  },
  {
   "cell_type": "code",
   "execution_count": null,
   "metadata": {},
   "outputs": [
    {
     "name": "stdout",
     "output_type": "stream",
     "text": [
      "1\n",
      "22\n",
      "333\n",
      "4444\n",
      "55555\n"
     ]
    }
   ],
   "source": [
    "#7\n",
    "n = 5\n",
    "\n",
    "for i in range(1, n +1 ):\n",
    "    for j in range(i):\n",
    "        print(i, end=\"\")\n",
    "    print()"
   ]
  },
  {
   "cell_type": "code",
   "execution_count": null,
   "metadata": {},
   "outputs": [
    {
     "name": "stdout",
     "output_type": "stream",
     "text": [
      "0\n",
      "1\n",
      "2\n",
      "3\n",
      "5\n",
      "7\n",
      "11\n",
      "13\n",
      "17\n",
      "19\n",
      "23\n",
      "29\n",
      "31\n",
      "37\n",
      "41\n",
      "43\n",
      "47\n",
      "53\n",
      "59\n",
      "61\n",
      "67\n",
      "71\n",
      "73\n",
      "79\n",
      "83\n",
      "89\n",
      "97\n"
     ]
    }
   ],
   "source": [
    "#8\n",
    "n = 100\n",
    "\n",
    "def printEven(n):\n",
    "    for i in range(n):\n",
    "        if i % 2 == 0:\n",
    "            print(i)\n",
    "\n",
    "def printOdd(n):\n",
    "    for i in range(n):\n",
    "        if i % 2 != 0:\n",
    "            print(i)\n",
    "\n",
    "\n",
    "def printPrime(n):\n",
    "    for i in range(n):\n",
    "        if isPrime(i):\n",
    "            print(i)\n",
    "\n",
    "\n",
    "\n",
    "# printEven(n)\n",
    "# printOdd(n)\n",
    "# printPrime(n)\n",
    "\n",
    "\n"
   ]
  },
  {
   "cell_type": "code",
   "execution_count": null,
   "metadata": {},
   "outputs": [
    {
     "name": "stdout",
     "output_type": "stream",
     "text": [
      "Numbers:  4, 5, 7, 2, 1, 9\n",
      "Mean =  4.666666666666667\n",
      "Median =  4.5\n",
      "Standard deviation =  3.011090610836324\n"
     ]
    }
   ],
   "source": [
    "#9\n",
    "\n",
    "import statistics as st\n",
    "\n",
    "\n",
    "def compute(numbers):\n",
    "    print(\"Mean = \", st.mean(numbers))\n",
    "    print(\"Median = \", st.median(numbers))\n",
    "    print(\"Standard deviation = \", st.stdev(numbers))\n",
    "\n",
    "\n",
    "numbers = []\n",
    "\n",
    "while(True):\n",
    "    n = input(\"Enter numbers (comma seprated): \")\n",
    "    for i in  n.split(\", \"):\n",
    "        numbers.append(int(i))\n",
    "    \n",
    "    print(\"Numbers: \", n, end=\"\\n\")\n",
    "    \n",
    "    compute(numbers)\n",
    "\n",
    "    choice = input(\"Do you want to continue? (Y/N): \")\n",
    "    if(choice == \"Y\" or choice == \"y\"):\n",
    "        continue\n",
    "    else:\n",
    "        break"
   ]
  },
  {
   "cell_type": "code",
   "execution_count": null,
   "metadata": {},
   "outputs": [
    {
     "name": "stdout",
     "output_type": "stream",
     "text": [
      "Mean =  4.666666666666667\n",
      "Median =  9\n",
      "Standard deviation =  3.011090610836324\n"
     ]
    }
   ],
   "source": [
    "# 10\n",
    "def mean(numbers):\n",
    "    sum = 0\n",
    "    for i in numbers:\n",
    "        sum += i\n",
    "\n",
    "    return sum / len(numbers)\n",
    "\n",
    "\n",
    "def median(numbers):\n",
    "    n = len(numbers)\n",
    "    after_sorting = sorted(numbers)\n",
    "    if n % 2 != 0:\n",
    "        return after_sorting[int((n + 1) / 2)]\n",
    "    else:\n",
    "        return after_sorting[int(n / 2)] + after_sorting[int((n / 2 + 1) / 2)]\n",
    "\n",
    "\n",
    "def stdev(numbers):\n",
    "    m = mean(numbers)\n",
    "    sum = 0\n",
    "    for i in numbers:\n",
    "        sum += (i - m)(i - m)\n",
    "    return sum / (len(numbers) - 1)\n",
    "\n",
    "\n",
    "def compute(numbers):\n",
    "    print(\"Mean = \", mean(numbers))\n",
    "    print(\"Median = \", median(numbers))\n",
    "    print(\"Standard deviation = \", st.stdev(numbers))\n",
    "\n",
    "\n",
    "numbers = []\n",
    "\n",
    "while True:\n",
    "    n = input(\"Enter numbers (comma seprated): \")\n",
    "    for i in n.split(\", \"):\n",
    "        numbers.append(int(i))\n",
    "    compute(numbers)\n",
    "\n",
    "    choice = input(\"Do you want to continue? (Y/N): \")\n",
    "    if choice == \"Y\" or choice == \"y\":\n",
    "        continue\n",
    "    else:\n",
    "        break"
   ]
  },
  {
   "cell_type": "code",
   "execution_count": null,
   "metadata": {},
   "outputs": [
    {
     "name": "stdout",
     "output_type": "stream",
     "text": [
      "True\n"
     ]
    }
   ],
   "source": [
    "#11\n",
    "lst = [\" \", \"$\", \"%\", \"^\", \"&\", \"*\", \"(\", \")\"]\n",
    "\n",
    "s = input(\"Enter something...: \")\n",
    "\n",
    "\n",
    "\n",
    "def isContains(s):\n",
    "    for c in lst:\n",
    "        if c in s:\n",
    "            return True\n",
    "    return False\n",
    "\n",
    "\n",
    "print(isContains(s))\n"
   ]
  },
  {
   "cell_type": "code",
   "execution_count": null,
   "metadata": {},
   "outputs": [
    {
     "name": "stdout",
     "output_type": "stream",
     "text": [
      "Hello!\n",
      "How\n",
      "are\n",
      "you?\n"
     ]
    }
   ],
   "source": [
    "#12\n",
    "\n",
    "sentence = \"Hello! How are you?\"\n",
    "\n",
    "\n",
    "for w in sentence.split(\" \"):\n",
    "    print(w)"
   ]
  },
  {
   "cell_type": "code",
   "execution_count": null,
   "metadata": {},
   "outputs": [
    {
     "name": "stdout",
     "output_type": "stream",
     "text": [
      "Number at line 0\n",
      "Number at line 2\n",
      "Number at line 4\n",
      "Number at line 7\n",
      "Number at line 9\n",
      "Number at line 11\n",
      "Number at line 12\n"
     ]
    }
   ],
   "source": [
    "f = open(\"simple.txt\", \"+r\")\n",
    "\n",
    "count = 0\n",
    "for line in f.read().split(\"\\n\"):\n",
    "    try:\n",
    "        int(line)\n",
    "        print(\"Number at line\",count)\n",
    "    except Exception:\n",
    "        count += 1\n",
    "        continue\n",
    "    count += 1"
   ]
  },
  {
   "cell_type": "code",
   "execution_count": null,
   "metadata": {},
   "outputs": [
    {
     "name": "stdout",
     "output_type": "stream",
     "text": [
      "Beautiful .... 5\n",
      "Explicit .... 5\n",
      "Simple .... 5\n",
      "Complex .... 5\n",
      "Flat .... 5\n",
      "Sparse .... 5\n",
      "Readability .... 2\n",
      "Special .... 9\n",
      "Although .... 4\n",
      "Errors .... 5\n",
      "Unless .... 3\n",
      "In .... 10\n",
      "There .... 13\n",
      "Although .... 12\n",
      "Now .... 5\n",
      "Although .... 8\n",
      "If .... 11\n",
      "If .... 13\n",
      "Namespaces .... 12\n"
     ]
    }
   ],
   "source": [
    "#14\n",
    "\n",
    "f = open(\"multicolumn.txt\", \"r\")\n",
    "\n",
    "fw = open(\"result.txt\", \"a+\") \n",
    "\n",
    "lines = f.read().split(\". \")\n",
    "\n",
    "for line in lines:\n",
    "    words = line.split(\" \")\n",
    "    print(words[0], \"....\" ,len(words))\n",
    "    fw.write(str(words[0]) + \"....\" + str(len(words))+ \"\\n\")\n",
    "\n",
    "fw.close()\n",
    "f.close()"
   ]
  },
  {
   "cell_type": "code",
   "execution_count": null,
   "metadata": {},
   "outputs": [
    {
     "name": "stdout",
     "output_type": "stream",
     "text": [
      "1\n",
      "4\n",
      "10\n",
      "12\n"
     ]
    }
   ],
   "source": [
    "# 15\n",
    "\n",
    "f = open(\"table.txt\", \"r\")\n",
    "\n",
    "lines = f.read().splitlines()\n",
    "\n",
    "with open(\"output_table.txt\", \"w\") as file:\n",
    "    file.write(\"a,b,a+b,ab\\n\")\n",
    "    for i in range(1, len(lines)):\n",
    "        n1 = int(lines[i].split(\",\")[0])\n",
    "        n2 = int(lines[i].split(\",\")[1])\n",
    "        file.write(lines[i] + \",\" + str(n1 + n2) + \",\" + str(n1 * n2) + \"\\n\")\n",
    "\n",
    "\n",
    "# Printing diagonal elements\n",
    "f = open(\"output_table.txt\")\n",
    "lines = f.read().splitlines()\n",
    "for i in range(1, len(lines)):\n",
    "    list1 = lines[i].split(\",\")\n",
    "    for j in range(len(list1)):\n",
    "        if(j == i-1):\n",
    "            print(list1[j])\n",
    "\n",
    "# where ab is less than 25\n",
    "with open(\"output_table2.txt\", \"w\") as file:\n",
    "    file.write(\"a,b,a+b,ab\\n\")\n",
    "    for i in range(1, len(lines)):\n",
    "        list1 = lines[i].split(\",\")\n",
    "        if int(list1[3]) < 25:\n",
    "            file.write(lines[i] + \"\\n\")\n",
    "            "
   ]
  },
  {
   "cell_type": "code",
   "execution_count": 2,
   "metadata": {},
   "outputs": [
    {
     "ename": "ValueError",
     "evalue": "invalid literal for int() with base 10: '--ip=127.0.0.1'",
     "output_type": "error",
     "traceback": [
      "\u001b[1;31m---------------------------------------------------------------------------\u001b[0m",
      "\u001b[1;31mValueError\u001b[0m                                Traceback (most recent call last)",
      "\u001b[1;32mc:\\Users\\Ansari\\OneDrive\\Desktop\\python\\assignment_1\\main.ipynb Cell 18\u001b[0m line \u001b[0;36m3\n\u001b[0;32m      <a href='vscode-notebook-cell:/c%3A/Users/Ansari/OneDrive/Desktop/python/assignment_1/main.ipynb#X23sZmlsZQ%3D%3D?line=0'>1</a>\u001b[0m \u001b[39mimport\u001b[39;00m \u001b[39msys\u001b[39;00m\n\u001b[1;32m----> <a href='vscode-notebook-cell:/c%3A/Users/Ansari/OneDrive/Desktop/python/assignment_1/main.ipynb#X23sZmlsZQ%3D%3D?line=2'>3</a>\u001b[0m x \u001b[39m=\u001b[39m \u001b[39mint\u001b[39;49m(sys\u001b[39m.\u001b[39;49margv[\u001b[39m1\u001b[39;49m])\n\u001b[0;32m      <a href='vscode-notebook-cell:/c%3A/Users/Ansari/OneDrive/Desktop/python/assignment_1/main.ipynb#X23sZmlsZQ%3D%3D?line=3'>4</a>\u001b[0m y \u001b[39m=\u001b[39m \u001b[39mint\u001b[39m(sys\u001b[39m.\u001b[39margv[\u001b[39m2\u001b[39m])\n\u001b[0;32m      <a href='vscode-notebook-cell:/c%3A/Users/Ansari/OneDrive/Desktop/python/assignment_1/main.ipynb#X23sZmlsZQ%3D%3D?line=5'>6</a>\u001b[0m \u001b[39msum\u001b[39m \u001b[39m=\u001b[39m x \u001b[39m+\u001b[39m y\n",
      "\u001b[1;31mValueError\u001b[0m: invalid literal for int() with base 10: '--ip=127.0.0.1'"
     ]
    }
   ],
   "source": [
    "import sys\n",
    "\n",
    "x = int(sys.argv[1])\n",
    "y = int(sys.argv[2])\n",
    "\n",
    "sum = x + y\n",
    "print(\"The addition is :\", sum)"
   ]
  },
  {
   "cell_type": "code",
   "execution_count": null,
   "metadata": {},
   "outputs": [],
   "source": []
  }
 ],
 "metadata": {
  "kernelspec": {
   "display_name": "Python 3 (ipykernel)",
   "language": "python",
   "name": "python3"
  },
  "language_info": {
   "codemirror_mode": {
    "name": "ipython",
    "version": 3
   },
   "file_extension": ".py",
   "mimetype": "text/x-python",
   "name": "python",
   "nbconvert_exporter": "python",
   "pygments_lexer": "ipython3",
   "version": "3.11.3"
  }
 },
 "nbformat": 4,
 "nbformat_minor": 2
}

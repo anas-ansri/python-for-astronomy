{
 "cells": [
  {
   "cell_type": "code",
   "execution_count": 16,
   "metadata": {},
   "outputs": [
    {
     "name": "stdout",
     "output_type": "stream",
     "text": [
      "[64, 23, 67, 49, 68, 72, 31, 77, 60, 8]\n"
     ]
    }
   ],
   "source": [
    "#ASG 1\n",
    "import random\n",
    "\n",
    "n = int(input(\"Enter a number:\"))\n",
    "\n",
    "numbers = []\n",
    "for i in range(n):\n",
    "    no = random.randint(1, 100)\n",
    "    numbers.append(no)\n",
    "\n",
    "print(numbers)\n",
    "\n"
   ]
  },
  {
   "cell_type": "code",
   "execution_count": 11,
   "metadata": {},
   "outputs": [
    {
     "name": "stdout",
     "output_type": "stream",
     "text": [
      "Sorry, could not find that.\n"
     ]
    }
   ],
   "source": [
    "#ASG 2\n",
    "a = [1,2,3,4,5]\n",
    "\n",
    "n = int(input(\"Enter a number:\"))\n",
    "\n",
    "if(n in a):\n",
    "    print(\"Yes, found it!\")\n",
    "else:\n",
    "    print(\"Sorry, could not find that.\")"
   ]
  },
  {
   "cell_type": "code",
   "execution_count": 14,
   "metadata": {},
   "outputs": [
    {
     "name": "stdout",
     "output_type": "stream",
     "text": [
      "Yes, found it!\n"
     ]
    }
   ],
   "source": [
    "#ASG 2 B\n",
    "w = \"Jack\"\n",
    "\n",
    "a = input(\"Enter a character:\")\n",
    "\n",
    "if(a in w):\n",
    "    print(\"Yes, found it!\")\n",
    "else:\n",
    "    print(\"Sorry, could not find that.\")"
   ]
  },
  {
   "cell_type": "code",
   "execution_count": null,
   "metadata": {},
   "outputs": [],
   "source": [
    "n = input(\"Enter number of students:\")\n",
    "\n",
    "\n",
    "for i in range(n):\n",
    "    name = input(\"Name \"+ i + \":\")\n",
    "    marks = input(\"Marks \"+ i )\n",
    "    "
   ]
  },
  {
   "cell_type": "code",
   "execution_count": null,
   "metadata": {},
   "outputs": [],
   "source": []
  }
 ],
 "metadata": {
  "kernelspec": {
   "display_name": "Python 3 (ipykernel)",
   "language": "python",
   "name": "python3"
  },
  "language_info": {
   "codemirror_mode": {
    "name": "ipython",
    "version": 3
   },
   "file_extension": ".py",
   "mimetype": "text/x-python",
   "name": "python",
   "nbconvert_exporter": "python",
   "pygments_lexer": "ipython3",
   "version": "3.11.3"
  }
 },
 "nbformat": 4,
 "nbformat_minor": 2
}
